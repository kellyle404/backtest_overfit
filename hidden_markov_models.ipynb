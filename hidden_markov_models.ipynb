{
 "cells": [
  {
   "cell_type": "markdown",
   "metadata": {},
   "source": [
    "# Hidden Markov Models\n",
    "\n",
    "https://builtin.com/articles/hidden-markov-model"
   ]
  },
  {
   "cell_type": "code",
   "execution_count": 66,
   "metadata": {},
   "outputs": [],
   "source": [
    "import numpy as np\n",
    "import pandas as pd"
   ]
  },
  {
   "cell_type": "markdown",
   "metadata": {},
   "source": [
    "## 1. Forward algorithm - evaluation problem"
   ]
  },
  {
   "cell_type": "markdown",
   "metadata": {},
   "source": [
    "### Naive way: go over every single possible combinations of hidden states\n",
    "\n",
    "See excel for visualised tree diagram"
   ]
  },
  {
   "cell_type": "code",
   "execution_count": 49,
   "metadata": {},
   "outputs": [],
   "source": [
    "# Initial state probabilities\n",
    "initial_prob = np.array([0.6, 0.4])  # TIRED, HAPPY\n",
    "\n",
    "# State transition matrix\n",
    "transition_prob = np.array([\n",
    "    [0.7, 0.3],  # TIRED -> [TIRED, HAPPY]\n",
    "    [0.4, 0.6]   # HAPPY -> [TIRED, HAPPY]\n",
    "])\n",
    "states = [0, 1]  # indices of [TIRED, HAPPY]\n",
    "\n",
    "# Emission probabilities\n",
    "emission_prob = np.array([\n",
    "    [0.3, 0.5, 0.2],  # TIRED -> [FAIL, OK, PERFECT]\n",
    "    [0.1, 0.5, 0.4]   # HAPPY -> [FAIL, OK, PERFECT]\n",
    "])\n",
    "\n",
    "# Observation sequence: OK -> FAIL -> PERFECT\n",
    "observations = [1, 0, 2]"
   ]
  },
  {
   "cell_type": "code",
   "execution_count": null,
   "metadata": {},
   "outputs": [],
   "source": [
    "# t1 =================\n",
    "# start with first state being TIRED (out of 2 states: TIRED 0.6 AND HAPPY 0.4)\n",
    "# prob of getting an OK is 0.5, i.e. emission_prob[0, 1] # 1 stands for ok\n",
    "# t2 =================\n",
    "# second state = transition_prob[0] (first row, either TIRED to TIRED or TIRED to HAPPY)\n",
    "# let's start with the first state in the first row: tired to TIRED\n",
    "# prob of getting a FAIL is 0.3, i.e. emission_prob[0, 0] # 0 stands for fail\n",
    "# t3 =================\n",
    "# third state = transition_prob[0] (first row, either TIRED to TIRED or TIRED to HAPPY)\n",
    "# let's start with the first state in the first row: tired to TIRED\n",
    "# prob of getting a PERFECT is 0.2, i.e. emission_prob[0, 2] # 2 stands for perfect\n",
    "\n",
    "# total prob of scenario ==================\n",
    "# = 0.5 * 0.3 * 0.2 = 0.03\n",
    "\n",
    "# back to t3 =================\n",
    "# let's move on to the second state in the first row: tired to HAPPY\n",
    "# back to t3 =================\n",
    "# let's move on to the first state in the second row: happy to TIRED\n",
    "# back to t3 =================\n",
    "# let's move on to the second state in the second row: happy to HAPPY\n",
    "\n",
    "# back to t2 =================\n",
    "# let's start with the second state in the first row: tired to HAPPY\n",
    "# back to t2 =================\n",
    "# let's start with the first state in the second row: happy to TIRED\n",
    "# back to t2 =================\n",
    "# let's start with the second state in the second row: happy to HAPPY\n",
    "\n",
    "# back to t1 =================\n",
    "# let's start with the second state in the first row: tired to HAPPY\n",
    "# back to t1 =================\n",
    "# let's start with the first state in the second row: happy to TIRED\n",
    "# back to t1 =================\n",
    "# let's start with the second state in the second row: happy to HAPPY"
   ]
  },
  {
   "cell_type": "code",
   "execution_count": null,
   "metadata": {},
   "outputs": [],
   "source": [
    "for s1 in states: \n",
    "    for s2 in states:\n",
    "        for s3 in states:\n",
    "            state_prob = transition_prob[s2, s3]\n",
    "            observation_prob = emission_prob[s3, observations[2]]"
   ]
  },
  {
   "cell_type": "markdown",
   "metadata": {},
   "source": [
    "### Forward algorithm\n",
    "\n",
    "https://towardsdatascience.com/hidden-markov-models-explained-with-a-real-life-example-and-python-code-2df2a7956d65"
   ]
  },
  {
   "cell_type": "code",
   "execution_count": 81,
   "metadata": {},
   "outputs": [
    {
     "name": "stdout",
     "output_type": "stream",
     "text": [
      "The probability of observing the sequence OK -> FAIL -> PERFECT is: 0.02934\n"
     ]
    }
   ],
   "source": [
    "# Initial state probabilities\n",
    "initial_prob = np.array([0.6, 0.4])  # TIRED, HAPPY\n",
    "\n",
    "# State transition matrix\n",
    "transition_prob = np.array([\n",
    "    [0.7, 0.3],  # TIRED -> [TIRED, HAPPY]\n",
    "    [0.4, 0.6]   # HAPPY -> [TIRED, HAPPY]\n",
    "])\n",
    "\n",
    "# Emission probabilities\n",
    "emission_prob = np.array([\n",
    "    [0.3, 0.5, 0.2],  # TIRED -> [FAIL, OK, PERFECT]\n",
    "    [0.1, 0.5, 0.4]   # HAPPY -> [FAIL, OK, PERFECT]\n",
    "])\n",
    "\n",
    "# Observation sequence: OK -> FAIL -> PERFECT\n",
    "observations = [1, 0, 2]\n",
    "\n",
    "# Forward algorithm\n",
    "# Initialize alpha values\n",
    "alpha = np.zeros((len(observations), len(initial_prob)))\n",
    "\n",
    "# Initial step\n",
    "for s in range(len(initial_prob)):\n",
    "    alpha[0, s] = initial_prob[s] * emission_prob[s, observations[0]]\n",
    "\n",
    "# Recursion step\n",
    "for t in range(1, len(observations)):\n",
    "    for s in range(len(initial_prob)):\n",
    "        alpha[t, s] = np.sum(alpha[t - 1] * transition_prob[:, s]) * emission_prob[s, observations[t]]\n",
    "\n",
    "# Termination step: sum of the final alpha values\n",
    "probability = np.sum(alpha[-1])\n",
    "\n",
    "print(f\"The probability of observing the sequence OK -> FAIL -> PERFECT is: {probability}\")"
   ]
  },
  {
   "cell_type": "code",
   "execution_count": 82,
   "metadata": {},
   "outputs": [
    {
     "name": "stdout",
     "output_type": "stream",
     "text": [
      "Setup HMM model with parameters\n",
      "Step 1. Complete - Defined Initial Distribution\n",
      "Step 2. Complete - Defined Transition Matrix\n",
      "Step 3. Complete - Defined Observation Probability Matrix\n"
     ]
    },
    {
     "name": "stderr",
     "output_type": "stream",
     "text": [
      "Even though the 'startprob_' attribute is set, it will be overwritten during initialization because 'init_params' contains 's'\n",
      "Even though the 'transmat_' attribute is set, it will be overwritten during initialization because 'init_params' contains 't'\n",
      "Even though the 'emissionprob_' attribute is set, it will be overwritten during initialization because 'init_params' contains 'e'\n"
     ]
    },
    {
     "name": "stdout",
     "output_type": "stream",
     "text": [
      "\n",
      "Sample of Simulated Trials - Based on Model Parameters\n",
      "[[1]\n",
      " [1]\n",
      " [2]\n",
      " [1]\n",
      " [2]\n",
      " [0]\n",
      " [1]\n",
      " [1]\n",
      " [1]\n",
      " [2]]\n",
      "Predict the Hidden State Transitions that were being the exam scores OK, Fail, Perfect: \n",
      " 0 -> Tired , 1 -> Happy\n",
      "[1 0 0]\n"
     ]
    }
   ],
   "source": [
    "from hmmlearn import hmm\n",
    "import numpy as np\n",
    "\n",
    "## Part 1. Generating a HMM with specific parameters and simulating the exam\n",
    "print(\"Setup HMM model with parameters\")\n",
    "# init_params are the parameters used to initialize the model for training\n",
    "# s -> start probability\n",
    "# t -> transition probabilities\n",
    "# e -> emission probabilities\n",
    "model = hmm.CategoricalHMM(n_components=2, random_state=425, init_params='ste')\n",
    "\n",
    "# initial probabilities\n",
    "# probability of starting in the Tired state = 0\n",
    "# probability of starting in the Happy state = 1\n",
    "initial_distribution = np.array([0.1, 0.9])\n",
    "model.startprob_ = initial_distribution\n",
    "\n",
    "print(\"Step 1. Complete - Defined Initial Distribution\")\n",
    "\n",
    "# transition probabilities\n",
    "#        tired    happy\n",
    "# tired   0.4      0.6\n",
    "# happy   0.2      0.8\n",
    "\n",
    "transition_distribution = np.array([[0.4, 0.6], [0.2, 0.8]])\n",
    "model.transmat_ = transition_distribution\n",
    "print(\"Step 2. Complete - Defined Transition Matrix\")\n",
    "\n",
    "# observation probabilities\n",
    "#        Fail    OK      Perfect\n",
    "# tired   0.3    0.5       0.2\n",
    "# happy   0.1    0.5       0.4\n",
    "\n",
    "observation_probability_matrix = np.array([[0.3, 0.5, 0.2], [0.1, 0.5, 0.4]])\n",
    "model.emissionprob_ = observation_probability_matrix\n",
    "print(\"Step 3. Complete - Defined Observation Probability Matrix\")\n",
    "\n",
    "# simulate performing 100,000 trials, i.e., aptitude tests\n",
    "trials, simulated_states = model.sample(100000)\n",
    "\n",
    "# Output a sample of the simulated trials\n",
    "# 0 -> Fail\n",
    "# 1 -> OK\n",
    "# 2 -> Perfect\n",
    "print(\"\\nSample of Simulated Trials - Based on Model Parameters\")\n",
    "print(trials[:10])\n",
    "\n",
    "## Part 2 - Decoding the hidden state sequence that leads\n",
    "## to an observation sequence of OK - Fail - Perfect\n",
    "\n",
    "# split our data into training and test sets (50/50 split)\n",
    "X_train = trials[:trials.shape[0] // 2]\n",
    "X_test = trials[trials.shape[0] // 2:]\n",
    "\n",
    "model.fit(X_train)\n",
    "\n",
    "# the exam had 3 trials and your dog had the following score: OK, Fail, Perfect (1, 0 , 2)\n",
    "exam_observations = [[1, 0, 2]]\n",
    "predicted_states = model.predict(X=[[1, 0, 2]])\n",
    "print(\"Predict the Hidden State Transitions that were being the exam scores OK, Fail, Perfect: \\n 0 -> Tired , \"\n",
    "      \"1 -> Happy\")\n",
    "print(predicted_states)"
   ]
  },
  {
   "cell_type": "code",
   "execution_count": 1,
   "metadata": {},
   "outputs": [],
   "source": [
    "import numpy as np\n",
    "obs_to_idx = {'normal':0, 'cold': 1, 'dizzy':2}\n",
    "state_to_idx = {'Healthy':0, 'Fever':1}"
   ]
  },
  {
   "cell_type": "code",
   "execution_count": 2,
   "metadata": {},
   "outputs": [],
   "source": [
    "pi = np.array([0.6, 0.4])\n",
    "\n",
    "# transition probabilities\n",
    "A = np.array([[0.7, 0.3],\n",
    "              [0.4, 0.6]])\n",
    "\n",
    "# emission probabilties\n",
    "B = np.array([[0.5, 0.4, 0.1],\n",
    "              [0.1, 0.3, 0.6]])\n",
    "\n",
    "X = [['normal', 'cold', 'dizzy'], \n",
    "     ['normal', 'cold', 'cold'],\n",
    "     ['cold', 'cold', 'dizzy'],\n",
    "     ['normal', 'normal', 'normal']]"
   ]
  }
 ],
 "metadata": {
  "kernelspec": {
   "display_name": "Python 3",
   "language": "python",
   "name": "python3"
  },
  "language_info": {
   "codemirror_mode": {
    "name": "ipython",
    "version": 3
   },
   "file_extension": ".py",
   "mimetype": "text/x-python",
   "name": "python",
   "nbconvert_exporter": "python",
   "pygments_lexer": "ipython3",
   "version": "3.11.9"
  }
 },
 "nbformat": 4,
 "nbformat_minor": 2
}
