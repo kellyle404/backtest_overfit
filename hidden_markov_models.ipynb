{
 "cells": [
  {
   "cell_type": "markdown",
   "metadata": {},
   "source": [
    "# Hidden Markov Models"
   ]
  },
  {
   "cell_type": "code",
   "execution_count": 66,
   "metadata": {},
   "outputs": [],
   "source": [
    "import numpy as np\n",
    "import pandas as pd"
   ]
  },
  {
   "cell_type": "markdown",
   "metadata": {},
   "source": [
    "## 1. Forward algorithm - evaluation problem"
   ]
  },
  {
   "cell_type": "markdown",
   "metadata": {},
   "source": [
    "Naive way: go over every single possible combinations of hidden states\n",
    "\n",
    "See excel for visualised tree diagram"
   ]
  },
  {
   "cell_type": "code",
   "execution_count": 49,
   "metadata": {},
   "outputs": [],
   "source": [
    "# Initial state probabilities\n",
    "initial_prob = np.array([0.6, 0.4])  # TIRED, HAPPY\n",
    "\n",
    "# State transition matrix\n",
    "transition_prob = np.array([\n",
    "    [0.7, 0.3],  # TIRED -> [TIRED, HAPPY]\n",
    "    [0.4, 0.6]   # HAPPY -> [TIRED, HAPPY]\n",
    "])\n",
    "states = [0, 1]  # indices of [TIRED, HAPPY]\n",
    "\n",
    "# Emission probabilities\n",
    "emission_prob = np.array([\n",
    "    [0.3, 0.5, 0.2],  # TIRED -> [FAIL, OK, PERFECT]\n",
    "    [0.1, 0.5, 0.4]   # HAPPY -> [FAIL, OK, PERFECT]\n",
    "])\n",
    "\n",
    "# Observation sequence: OK -> FAIL -> PERFECT\n",
    "observations = [1, 0, 2]"
   ]
  },
  {
   "cell_type": "code",
   "execution_count": null,
   "metadata": {},
   "outputs": [],
   "source": [
    "# t1 =================\n",
    "# start with first state being TIRED (out of 2 states: TIRED 0.6 AND HAPPY 0.4)\n",
    "# prob of getting an OK is 0.5, i.e. emission_prob[0, 1] # 1 stands for ok\n",
    "# t2 =================\n",
    "# second state = transition_prob[0] (first row, either TIRED to TIRED or TIRED to HAPPY)\n",
    "# let's start with the first state in the first row: tired to TIRED\n",
    "# prob of getting a FAIL is 0.3, i.e. emission_prob[0, 0] # 0 stands for fail\n",
    "# t3 =================\n",
    "# third state = transition_prob[0] (first row, either TIRED to TIRED or TIRED to HAPPY)\n",
    "# let's start with the first state in the first row: tired to TIRED\n",
    "# prob of getting a PERFECT is 0.2, i.e. emission_prob[0, 2] # 2 stands for perfect\n",
    "\n",
    "# total prob of scenario ==================\n",
    "# = 0.5 * 0.3 * 0.2 = 0.03\n",
    "\n",
    "# back to t3 =================\n",
    "# let's move on to the second state in the first row: tired to HAPPY\n",
    "# back to t3 =================\n",
    "# let's move on to the first state in the second row: happy to TIRED\n",
    "# back to t3 =================\n",
    "# let's move on to the second state in the second row: happy to HAPPY\n",
    "\n",
    "# back to t2 =================\n",
    "# let's start with the second state in the first row: tired to HAPPY\n",
    "# back to t2 =================\n",
    "# let's start with the first state in the second row: happy to TIRED\n",
    "# back to t2 =================\n",
    "# let's start with the second state in the second row: happy to HAPPY\n",
    "\n",
    "# back to t1 =================\n",
    "# let's start with the second state in the first row: tired to HAPPY\n",
    "# back to t1 =================\n",
    "# let's start with the first state in the second row: happy to TIRED\n",
    "# back to t1 =================\n",
    "# let's start with the second state in the second row: happy to HAPPY"
   ]
  },
  {
   "cell_type": "code",
   "execution_count": null,
   "metadata": {},
   "outputs": [],
   "source": [
    "for s1 in states: \n",
    "    for s2 in states:\n",
    "        for s3 in states:\n",
    "            "
   ]
  },
  {
   "cell_type": "markdown",
   "metadata": {},
   "source": [
    "line 1"
   ]
  },
  {
   "cell_type": "code",
   "execution_count": 71,
   "metadata": {},
   "outputs": [
    {
     "data": {
      "text/plain": [
       "0.5"
      ]
     },
     "execution_count": 71,
     "metadata": {},
     "output_type": "execute_result"
    }
   ],
   "source": [
    "initial_prob[0] # 0.6 - tired\n",
    "\n",
    "emission_prob[0, observations[0]] # 0.5 - ok"
   ]
  },
  {
   "cell_type": "markdown",
   "metadata": {},
   "source": [
    "line 2"
   ]
  },
  {
   "cell_type": "code",
   "execution_count": 73,
   "metadata": {},
   "outputs": [
    {
     "data": {
      "text/plain": [
       "0.7"
      ]
     },
     "execution_count": 73,
     "metadata": {},
     "output_type": "execute_result"
    }
   ],
   "source": [
    "transition_prob[0, 0]"
   ]
  },
  {
   "cell_type": "code",
   "execution_count": 75,
   "metadata": {},
   "outputs": [
    {
     "data": {
      "text/plain": [
       "0.3"
      ]
     },
     "execution_count": 75,
     "metadata": {},
     "output_type": "execute_result"
    }
   ],
   "source": [
    "emission_prob[0][observations[1]] # tired -> fail: 0.3"
   ]
  },
  {
   "cell_type": "code",
   "execution_count": 77,
   "metadata": {},
   "outputs": [
    {
     "name": "stdout",
     "output_type": "stream",
     "text": [
      "0\n",
      "0\n",
      "0\n",
      "1\n",
      "1\n",
      "0\n",
      "1\n",
      "1\n",
      "0\n",
      "0\n",
      "1\n",
      "1\n",
      "0\n",
      "1\n"
     ]
    }
   ],
   "source": [
    "prob_ok_fail_perfect = 0\n",
    "\n",
    "for s1 in states:\n",
    "    print(s1)\n",
    "    for s2 in states:\n",
    "        print(s2)\n",
    "        for s3 in states:\n",
    "            print(s3)\n",
    "            prob = initial_prob[s1] * emission_prob[s1, observations[0]]\n",
    "            # 1: tired 0.6 * ok 0.5 = 0.3\n",
    "            prob *= transition_prob[s1, s2] * emission_prob[s2][observations[1]]\n",
    "            # *= is the same as prob = prob * ..."
   ]
  },
  {
   "cell_type": "code",
   "execution_count": null,
   "metadata": {},
   "outputs": [],
   "source": []
  },
  {
   "cell_type": "code",
   "execution_count": 47,
   "metadata": {},
   "outputs": [
    {
     "name": "stdout",
     "output_type": "stream",
     "text": [
      "The probability of observing the sequence OK -> FAIL -> PERFECT is: 0.029339999999999995\n"
     ]
    }
   ],
   "source": [
    "for s1 in states:\n",
    "    for s2 in states:\n",
    "        for s3 in states:\n",
    "            # Probability of the initial state and first observation\n",
    "            prob = initial_prob[s1] * emission_prob[s1, observations[0]]\n",
    "            # Transition from s1 to s2 and second observation\n",
    "            prob *= transition_prob[s1, s2] * emission_prob[s2, observations[1]]\n",
    "            # Transition from s2 to s3 and third observation\n",
    "            prob *= transition_prob[s2, s3] * emission_prob[s3, observations[2]]\n",
    "            # Add the probability of this sequence to the total\n",
    "            total_prob += prob\n",
    "\n",
    "print(f\"The probability of observing the sequence OK -> FAIL -> PERFECT is: {total_prob}\")\n"
   ]
  },
  {
   "cell_type": "markdown",
   "metadata": {},
   "source": [
    "Forward algorithm"
   ]
  },
  {
   "cell_type": "code",
   "execution_count": 48,
   "metadata": {},
   "outputs": [
    {
     "name": "stdout",
     "output_type": "stream",
     "text": [
      "The probability of observing the sequence OK -> FAIL -> PERFECT is: 0.02934\n"
     ]
    }
   ],
   "source": [
    "# Initial state probabilities\n",
    "initial_prob = np.array([0.6, 0.4])  # TIRED, HAPPY\n",
    "\n",
    "# State transition matrix\n",
    "transition_prob = np.array([\n",
    "    [0.7, 0.3],  # TIRED -> [TIRED, HAPPY]\n",
    "    [0.4, 0.6]   # HAPPY -> [TIRED, HAPPY]\n",
    "])\n",
    "\n",
    "# Emission probabilities\n",
    "emission_prob = np.array([\n",
    "    [0.3, 0.5, 0.2],  # TIRED -> [FAIL, OK, PERFECT]\n",
    "    [0.1, 0.5, 0.4]   # HAPPY -> [FAIL, OK, PERFECT]\n",
    "])\n",
    "\n",
    "# Observation sequence: OK -> FAIL -> PERFECT\n",
    "observations = [1, 0, 2]\n",
    "\n",
    "# Forward algorithm\n",
    "# Initialize alpha values\n",
    "alpha = np.zeros((len(observations), len(initial_prob)))\n",
    "\n",
    "# Initial step\n",
    "for s in range(len(initial_prob)):\n",
    "    alpha[0, s] = initial_prob[s] * emission_prob[s, observations[0]]\n",
    "\n",
    "# Recursion step\n",
    "for t in range(1, len(observations)):\n",
    "    for s in range(len(initial_prob)):\n",
    "        alpha[t, s] = np.sum(alpha[t - 1] * transition_prob[:, s]) * emission_prob[s, observations[t]]\n",
    "\n",
    "# Termination step: sum of the final alpha values\n",
    "probability = np.sum(alpha[-1])\n",
    "\n",
    "print(f\"The probability of observing the sequence OK -> FAIL -> PERFECT is: {probability}\")"
   ]
  }
 ],
 "metadata": {
  "kernelspec": {
   "display_name": "Python 3",
   "language": "python",
   "name": "python3"
  },
  "language_info": {
   "codemirror_mode": {
    "name": "ipython",
    "version": 3
   },
   "file_extension": ".py",
   "mimetype": "text/x-python",
   "name": "python",
   "nbconvert_exporter": "python",
   "pygments_lexer": "ipython3",
   "version": "3.11.9"
  }
 },
 "nbformat": 4,
 "nbformat_minor": 2
}
